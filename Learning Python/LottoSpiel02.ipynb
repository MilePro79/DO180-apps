{
  "nbformat": 4,
  "nbformat_minor": 0,
  "metadata": {
    "colab": {
      "provenance": [],
      "authorship_tag": "ABX9TyN1pBmB832sHzesqGe1Gy6B",
      "include_colab_link": true
    },
    "kernelspec": {
      "name": "python3",
      "display_name": "Python 3"
    },
    "language_info": {
      "name": "python"
    }
  },
  "cells": [
    {
      "cell_type": "markdown",
      "metadata": {
        "id": "view-in-github",
        "colab_type": "text"
      },
      "source": [
        "<a href=\"https://colab.research.google.com/github/MilePro79/DO180-apps/blob/master/Learning%20Python/LottoSpiel02.ipynb\" target=\"_parent\"><img src=\"https://colab.research.google.com/assets/colab-badge.svg\" alt=\"Open In Colab\"/></a>"
      ]
    },
    {
      "cell_type": "code",
      "execution_count": null,
      "metadata": {
        "id": "43D8VzliIk5y"
      },
      "outputs": [],
      "source": []
    },
    {
      "cell_type": "code",
      "source": [
        "print(\"Hello Jungs und World, hier ist\")\n",
        "i = \"Mile\"\n",
        "type(i)\n",
        "print(\"Hello Jungs und World, hier ist:\", i)\n",
        "\n"
      ],
      "metadata": {
        "id": "zHJ9D0PQInmu",
        "colab": {
          "base_uri": "https://localhost:8080/"
        },
        "outputId": "b8cd19f4-a1d1-446b-c93f-0a22368b3d93"
      },
      "execution_count": null,
      "outputs": [
        {
          "output_type": "stream",
          "name": "stdout",
          "text": [
            "Hello Jungs und World, hier ist\n",
            "Hello Jungs und World, hier ist: Mile\n"
          ]
        }
      ]
    },
    {
      "cell_type": "markdown",
      "source": [
        "Dies ist meine erste While Loop im CoLap:"
      ],
      "metadata": {
        "id": "g8sF56utDzBF"
      }
    },
    {
      "cell_type": "code",
      "source": [
        "## Protpotyp: Werfe 6 Gewinnzahlen\n",
        "## Begrüsse zuerst den Teilnehmer\n",
        "## Lass ihn/sie seine Zahlen Notieren\n",
        "## Zeige diese Zahlen an\n",
        "## Informiere den Teilnehmer, dass er die Ziehungen Triggern kann\n",
        "## Führe die Ziehung der 6 Zahlen aus, eine Zahl nach der anderen - mit einer mehrsekundigen Pauze dazwischen\n",
        "## Vergleiche dann die gezogenen Zahlen mit denjenigen des Teilnehmers\n",
        "## gebe eine\n",
        "## Generiere Files von Swiss Lotto, wo angaben über Historische Gewinnzahlenhäufigkeiten verglichen werden können mit den Zahlen vom 2024 - danach proiziere die Wahrscheinlichkeit der angegeben Zahlen7\n",
        "## Zuletzte schlage Zahlenkombinationen vor mit der höchsten Wahrscheinlichkeit\n",
        "\n",
        "\n",
        "import random\n",
        "import time\n",
        "\n",
        "\n",
        "wait_time = int(input(\"WarteZeit: \"))\n",
        "ziehungen = 6\n",
        "\n",
        "print(\"Willkommen zu Deinem Eigenen Lottogewinn-Spiel\")\n",
        "time.sleep(wait_time)\n",
        "\n",
        "print(\"Wir spielen mit Dir jetzt eine Ziehung :-)\")\n",
        "time.sleep(wait_time)\n",
        "\n",
        "teilnehmerVorname = input(\"Gib uns aber zuerst Deinen Namen ein, damit ich dir bei einem möglichen Gewinn persönlich gratulieren kann: \")\n",
        "time.sleep(wait_time)\n",
        "\n",
        "print(\"Danke \"+teilnehmerVorname+\"   ..lass mich jetzt deinen Namen speichern\")\n",
        "time.sleep(wait_time)\n",
        "\n",
        "print(\"Gib mir bitte jetzt Deine 6 Zahlen, eine Zahl pro Eingabefeld\")\n",
        "ziehzahl1 = int(input(\"1. Zahl eingeben: \"))\n",
        "ziehzahl2 = int(input(\"2. Zahl eingeben: \"))\n",
        "ziehzahl3 = int(input(\"3. Zahl eingeben: \"))\n",
        "ziehzahl4 = int(input(\"4. Zahl eingeben: \"))\n",
        "ziehzahl5 = int(input(\"5. Zahl eingeben: \"))\n",
        "ziehzahl6 = int(input(\"6. Zahl eingeben: \"))\n",
        "##Berücksichtige, dass die Zahlen 1 bis 45 sind\n",
        "##Prüfe, dass die Zahlen nicht String sind\n",
        "\n",
        "print(\"\\nHier sind also Deine eingegebenen Lottozahlen: \")\n",
        "zz_list = [ziehzahl1,ziehzahl2,ziehzahl3,ziehzahl4,ziehzahl5,ziehzahl6]\n",
        "i=0\n",
        "## print(\"List Lenght: \"+str(len(zz_list)))\n",
        "\n",
        "while i < len(zz_list):\n",
        "  print (\"Zahl\"+str(i+)+ \": \"+str(zz_list[i]))\n",
        "  i+=1\n",
        "\n",
        "print(zz_list)\n",
        "\n",
        "print(\"\\nHier wären nun die gezogenen Lottozahlen: \")\n",
        "lottozahlen_alle = []\n",
        "lottozahlen_alle.extend(range(1,50))\n",
        "lottozahlen_gewinner = random.sample(lottozahlen_alle, 6)\n",
        "print(lottozahlen_gewinner)\n",
        "\n",
        "time.sleep(wait_time)\n",
        "print(\"\\nOh Mann!!, hatte vergessen Dich nach deinen Zahlen zu fragen!!\")\n"
      ],
      "metadata": {
        "colab": {
          "base_uri": "https://localhost:8080/"
        },
        "id": "zMOu0i9nD2iF",
        "outputId": "a632864d-0fea-447b-afee-d5d14d686f09"
      },
      "execution_count": 1,
      "outputs": [
        {
          "output_type": "stream",
          "name": "stdout",
          "text": [
            "WarteZeit: 0\n",
            "Willkommen zu Deinem Eigenen Lottogewinn-Spiel\n",
            "Wir spielen mit Dir jetzt eine Ziehung :-)\n",
            "Gib uns aber zuerst Deinen Namen ein, damit ich dir bei einem möglichen Gewinn persönlich gratulieren kann: M\n",
            "Danke M   ..lass mich jetzt deinen Namen speichern\n",
            "Gib mir bitte jetzt Deine 6 Zahlen, eine Zahl pro Eingabefeld\n",
            "1. Zahl eingeben: 1\n",
            "2. Zahl eingeben: 2\n",
            "3. Zahl eingeben: 3\n",
            "4. Zahl eingeben: 4\n",
            "5. Zahl eingeben: 5\n",
            "6. Zahl eingeben: 6\n",
            "\n",
            "Hier sind also Deine eingegebenen Lottozahlen: \n",
            "Zahl0: 1\n",
            "Zahl1: 2\n",
            "Zahl2: 3\n",
            "Zahl3: 4\n",
            "Zahl4: 5\n",
            "Zahl5: 6\n",
            "[1, 2, 3, 4, 5, 6]\n",
            "\n",
            "Hier wären nun die gezogenen Lottozahlen: \n",
            "[2, 34, 32, 6, 46, 26]\n",
            "\n",
            "Oh Mann!!, hatte vergessen Dich nach deinen Zahlen zu fragen!!\n"
          ]
        }
      ]
    },
    {
      "cell_type": "code",
      "source": [],
      "metadata": {
        "id": "thkAmw2R2TMt"
      },
      "execution_count": null,
      "outputs": []
    },
    {
      "cell_type": "code",
      "source": [
        "\n",
        "623\n",
        "4\n",
        "5\n",
        "23\n",
        "4\n",
        "5\n",
        "6\n",
        "\n"
      ],
      "metadata": {
        "id": "o9zts6NBJVeK"
      },
      "execution_count": 13,
      "outputs": []
    }
  ]
}