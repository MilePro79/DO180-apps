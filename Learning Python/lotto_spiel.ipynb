{
  "nbformat": 4,
  "nbformat_minor": 0,
  "metadata": {
    "colab": {
      "provenance": [],
      "authorship_tag": "ABX9TyPkKLlrRvbHbaE6iTer89A5",
      "include_colab_link": true
    },
    "kernelspec": {
      "name": "python3",
      "display_name": "Python 3"
    },
    "language_info": {
      "name": "python"
    }
  },
  "cells": [
    {
      "cell_type": "markdown",
      "metadata": {
        "id": "view-in-github",
        "colab_type": "text"
      },
      "source": [
        "<a href=\"https://colab.research.google.com/github/MilePro79/DO180-apps/blob/master/Learning%20Python/lotto_spiel.ipynb\" target=\"_parent\"><img src=\"https://colab.research.google.com/assets/colab-badge.svg\" alt=\"Open In Colab\"/></a>"
      ]
    },
    {
      "cell_type": "code",
      "execution_count": null,
      "metadata": {
        "id": "43D8VzliIk5y"
      },
      "outputs": [],
      "source": []
    },
    {
      "cell_type": "code",
      "source": [
        "print(\"Hello Jungs und World, hier ist\")\n",
        "i = \"Mile\"\n",
        "type(i)\n",
        "print(\"Hello Jungs und World, hier ist:\", i)\n",
        "\n"
      ],
      "metadata": {
        "id": "zHJ9D0PQInmu",
        "colab": {
          "base_uri": "https://localhost:8080/"
        },
        "outputId": "b8cd19f4-a1d1-446b-c93f-0a22368b3d93"
      },
      "execution_count": null,
      "outputs": [
        {
          "output_type": "stream",
          "name": "stdout",
          "text": [
            "Hello Jungs und World, hier ist\n",
            "Hello Jungs und World, hier ist: Mile\n"
          ]
        }
      ]
    },
    {
      "cell_type": "markdown",
      "source": [
        "Dies ist meine erste While Loop im CoLap:"
      ],
      "metadata": {
        "id": "g8sF56utDzBF"
      }
    },
    {
      "cell_type": "code",
      "source": [
        "## Protpotyp: Werfe 6 Gewinnzahlen\n",
        "## Begrüsse zuerst den Teilnehmer\n",
        "## Lass ihn/sie seine Zahlen Notieren\n",
        "## Zeige diese Zahlen an\n",
        "## Informiere den Teilnehmer, dass er die Ziehungen Triggern kann\n",
        "## Führe die Ziehung der 6 Zahlen aus, eine Zahl nach der anderen - mit einer mehrsekundigen Pauze dazwischen\n",
        "## Vergleiche dann die gezogenen Zahlen mit denjenigen des Teilnehmers\n",
        "## gebe eine\n",
        "\n",
        "import random\n",
        "import time\n",
        "\n",
        "\n",
        "wait_time = int(input(\"WarteZeit: \"))\n",
        "ziehungen = 6\n",
        "\n",
        "print(\"Willkommen zu Deinem Eigenen Lottogewinn-Spiel\")\n",
        "time.sleep(wait_time)\n",
        "\n",
        "print(\"Wir spielen mit Dir jetzt eine Ziehung :-)\")\n",
        "time.sleep(wait_time)\n",
        "\n",
        "teilnehmerVorname = input(\"Gib uns aber zuerst Deinen Namen ein, damit ich dir bei einem möglichen Gewinn persönlich gratulieren kann: \")\n",
        "time.sleep(wait_time)\n",
        "\n",
        "print(\"Danke \"+teilnehmerVorname+\"   ..lass mich jetzt deinen Namen speichern\")\n",
        "time.sleep(wait_time)\n",
        "\n",
        "print(\"Gib mir bitte jetzt Deine 6 Zahlen, eine Zahl pro Eingabefeld\")\n",
        "ziehzahl1 = int(input(\"1. Zahl eingeben: \"))\n",
        "ziehzahl2 = int(input(\"2. Zahl eingeben: \"))\n",
        "ziehzahl3 = int(input(\"3. Zahl eingeben: \"))\n",
        "ziehzahl4 = int(input(\"4. Zahl eingeben: \"))\n",
        "ziehzahl5 = int(input(\"5. Zahl eingeben: \"))\n",
        "ziehzahl6 = int(input(\"6. Zahl eingeben: \"))\n",
        "##Berücksichtige, dass die Zahlen 1 bis 45 sind\n",
        "##Prüfe, dass die Zahlen nicht String sind\n",
        "\n",
        "print(\"\\nHier sind also Deine eingegebenen Lottozahlen: \")\n",
        "zz_list = [ziehzahl1,ziehzahl2,ziehzahl3,ziehzahl4,ziehzahl5,ziehzahl6]\n",
        "i=0\n",
        "## print(\"List Lenght: \"+str(len(zz_list)))\n",
        "\n",
        "while i < len(zz_list):\n",
        "  print (\"Zahl\"+str(i)+ \": \"+str(zz_list[i]))\n",
        "  i+=1\n",
        "\n",
        "print(zz_list)\n",
        "\n",
        "print(\"\\nHier wären nun die gezogenen Lottozahlen: \")\n",
        "lottozahlen_alle = []\n",
        "lottozahlen_alle.extend(range(1,50))\n",
        "lottozahlen_gewinner = random.sample(lottozahlen_alle, 6)\n",
        "print(lottozahlen_gewinner)\n",
        "\n",
        "time.sleep(wait_time)\n",
        "print(\"\\nOh Mann!!, hatte vergessen Dich nach deinen Zahlen zu fragen!!\")\n"
      ],
      "metadata": {
        "colab": {
          "base_uri": "https://localhost:8080/"
        },
        "id": "zMOu0i9nD2iF",
        "outputId": "2b1d8008-1202-4f74-e55c-d791bcf54408"
      },
      "execution_count": 38,
      "outputs": [
        {
          "output_type": "stream",
          "name": "stdout",
          "text": [
            "WarteZeit: 4\n",
            "Willkommen zu Deinem Eigenen Lottogewinn-Spiel\n",
            "Wir spielen mit Dir jetzt eine Ziehung :-)\n",
            "Gib uns aber zuerst Deinen Namen ein, damit ich dir bei einem möglichen Gewinn persönlich gratulieren kann: Ivana\n",
            "Danke Ivana   ..lass mich jetzt deinen Namen speichern\n",
            "Gib mir bitte jetzt Deine 6 Zahlen, nacheinander ein\n",
            "1. Zahl eingeben: 3\n",
            "2. Zahl eingeben: 6\n",
            "3. Zahl eingeben: 19\n",
            "4. Zahl eingeben: 15\n",
            "5. Zahl eingeben: 178\n",
            "6. Zahl eingeben: 89\n",
            "\n",
            "Hier sind also Deine eingegebenen Lottozahlen: \n",
            "Zahl0: 3\n",
            "Zahl1: 6\n",
            "Zahl2: 19\n",
            "Zahl3: 15\n",
            "Zahl4: 178\n",
            "Zahl5: 89\n",
            "[3, 6, 19, 15, 178, 89]\n",
            "\n",
            "Hier wären nun die gezogenen Lottozahlen: \n",
            "[6, 5, 36, 10, 29, 2]\n",
            "\n",
            "Oh Mann!!, hatte vergessen Dich nach deinen Zahlen zu fragen!!\n"
          ]
        }
      ]
    },
    {
      "cell_type": "code",
      "source": [
        "\n",
        "623\n",
        "4\n",
        "5\n",
        "23\n",
        "4\n",
        "5\n",
        "6\n",
        "\n"
      ],
      "metadata": {
        "id": "o9zts6NBJVeK"
      },
      "execution_count": 13,
      "outputs": []
    }
  ]
}