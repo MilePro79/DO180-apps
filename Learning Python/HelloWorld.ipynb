{
  "nbformat": 4,
  "nbformat_minor": 0,
  "metadata": {
    "colab": {
      "provenance": [],
      "authorship_tag": "ABX9TyORbj17eYGTaQxt8PMkwwtE",
      "include_colab_link": true
    },
    "kernelspec": {
      "name": "python3",
      "display_name": "Python 3"
    },
    "language_info": {
      "name": "python"
    }
  },
  "cells": [
    {
      "cell_type": "markdown",
      "metadata": {
        "id": "view-in-github",
        "colab_type": "text"
      },
      "source": [
        "<a href=\"https://colab.research.google.com/github/MilePro79/DO180-apps/blob/master/HelloWorld.ipynb\" target=\"_parent\"><img src=\"https://colab.research.google.com/assets/colab-badge.svg\" alt=\"Open In Colab\"/></a>"
      ]
    },
    {
      "cell_type": "code",
      "execution_count": null,
      "metadata": {
        "id": "43D8VzliIk5y"
      },
      "outputs": [],
      "source": []
    },
    {
      "cell_type": "code",
      "source": [
        "print(\"Hello Jungs und World, hier ist\")\n",
        "i = \"Mile\"\n",
        "type(i)\n",
        "print(\"Hello Jungs und World, hier ist:\", i)\n"
      ],
      "metadata": {
        "id": "zHJ9D0PQInmu",
        "colab": {
          "base_uri": "https://localhost:8080/"
        },
        "outputId": "b8cd19f4-a1d1-446b-c93f-0a22368b3d93"
      },
      "execution_count": 5,
      "outputs": [
        {
          "output_type": "stream",
          "name": "stdout",
          "text": [
            "Hello Jungs und World, hier ist\n",
            "Hello Jungs und World, hier ist: Mile\n"
          ]
        }
      ]
    },
    {
      "cell_type": "code",
      "source": [],
      "metadata": {
        "id": "o9zts6NBJVeK"
      },
      "execution_count": null,
      "outputs": []
    }
  ]
}
